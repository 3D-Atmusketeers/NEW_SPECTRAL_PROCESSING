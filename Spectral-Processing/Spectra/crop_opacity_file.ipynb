{
 "cells": [
  {
   "cell_type": "code",
   "execution_count": 1,
   "id": "1f7f732d",
   "metadata": {},
   "outputs": [
    {
     "name": "stdout",
     "output_type": "stream",
     "text": [
      "Using wavelengths between 2.299999038e-06 and 2.320003484e-06\n",
      "Number of wavelength values between 2.299999038e-06 and 2.320003484e-06: 2165\n",
      "Filtered data saved to DATA/High-Res/opacCH4.dat\n",
      "Filtered data saved to DATA/High-Res/opacCO.dat\n",
      "Filtered data saved to DATA/High-Res/opacCO2.dat\n",
      "Filtered data saved to DATA/High-Res/opacH2O.dat\n",
      "Filtered data saved to DATA/High-Res/opacH2S.dat\n",
      "Filtered data saved to DATA/High-Res/opacHCN.dat\n",
      "Filtered data saved to DATA/High-Res/opacNH3.dat\n",
      "Wavelengths.txt has been created.\n"
     ]
    }
   ],
   "source": [
    "# Specify the range of wavelengths as a tuple (min, max)\n",
    "wavelength_range = (2.3e-06, 2.32e-06)\n",
    "\n",
    "resolution_str = 'High-Res'\n",
    "\n",
    "# Load and sort the wavelengths from the file to ensure they are in order\n",
    "with open(f'DATA/{resolution_str}/Full-Set/Wavelengths.txt', 'r') as f:\n",
    "    wavelengths_list = sorted(float(line.strip()) for line in f)\n",
    "\n",
    "# Find the closest wavelengths in the list to the specified range\n",
    "min_wavelength = min(wavelengths_list, key=lambda x: abs(x - wavelength_range[0]))\n",
    "max_wavelength = min(wavelengths_list, key=lambda x: abs(x - wavelength_range[1]))\n",
    "\n",
    "# Get the indices of the closest matches\n",
    "min_index = wavelengths_list.index(min_wavelength)\n",
    "max_index = wavelengths_list.index(max_wavelength)\n",
    "\n",
    "# Calculate the number of values between the two indices\n",
    "values_between = max_index - min_index\n",
    "\n",
    "print(f\"Using wavelengths between {min_wavelength} and {max_wavelength}\")\n",
    "print(f\"Number of wavelength values between {min_wavelength} and {max_wavelength}: {values_between}\")\n",
    "\n",
    "species = ['CH4', 'CO', 'CO2', 'H2O', 'H2S', 'HCN', 'NH3']\n",
    "\n",
    "collected_wavelengths = []\n",
    "\n",
    "first_loop = True\n",
    "for specie in species:\n",
    "    input_file_path = f'DATA/{resolution_str}/Full-Set/opac{specie}.dat'\n",
    "    output_file_path = f'DATA/{resolution_str}/opac{specie}.dat'\n",
    "\n",
    "    # Specify the wavelengths you are interested in as a list to determine the range\n",
    "    interested_wavelengths = [min_wavelength, max_wavelength]\n",
    "\n",
    "    # Process the file to find the range\n",
    "    start_line = None\n",
    "    end_line = None\n",
    "\n",
    "    with open(input_file_path, 'r') as file:\n",
    "        line_counter = 0\n",
    "        for line in file:\n",
    "            line_counter += 1  # Increment line counter for each line\n",
    "\n",
    "            if line_counter > 2:  # Skip the first two lines which are headers\n",
    "                parts = line.strip().split()\n",
    "                if parts:\n",
    "                    try:\n",
    "                        wavelength = float(parts[0])\n",
    "                        \n",
    "                        if (min_wavelength <= wavelength <= max_wavelength) and first_loop:\n",
    "                            collected_wavelengths.append(wavelength)\n",
    "                        if wavelength == interested_wavelengths[0]:\n",
    "                            start_line = line_counter\n",
    "                        elif wavelength == interested_wavelengths[1]:\n",
    "                            end_line = line_counter\n",
    "                            break  # Stop the loop once the end line is found\n",
    "                    except ValueError:\n",
    "                        print(f\"Could not convert to float: {parts[0]}\")\n",
    "                        \n",
    "\n",
    "    # Check if both start and end lines were found\n",
    "    if start_line is None or end_line is None:\n",
    "        print(\"Start or end wavelength not found in the file.\")\n",
    "    else:\n",
    "        # Write the lines from start_line to one before end_line to the output file\n",
    "        with open(input_file_path, 'r') as file, open(output_file_path, 'w') as outfile:\n",
    "            for i, line in enumerate(file, 1):\n",
    "                if i == 1 or i == 2 or start_line <= i < end_line:\n",
    "                    outfile.write(line)\n",
    "\n",
    "        print(f'Filtered data saved to {output_file_path}')\n",
    "    \n",
    "    first_loop = False\n",
    "\n",
    "# Write the collected wavelengths to a new file, excluding the last one\n",
    "with open('DATA/' + resolution_str + '/Wavelengths.txt', 'w') as f:\n",
    "    for wavelength in collected_wavelengths[:-1]:  # Exclude the last wavelength\n",
    "        f.write(f\"{wavelength}\\n\")\n",
    "\n",
    "print('Wavelengths.txt has been created.')\n"
   ]
  },
  {
   "cell_type": "code",
   "execution_count": 2,
   "id": "8ca77d3c",
   "metadata": {},
   "outputs": [
    {
     "name": "stdout",
     "output_type": "stream",
     "text": [
      "Filtered data saved to DATA/High-Res/opacCIA.dat\n"
     ]
    }
   ],
   "source": [
    "input_file_path = f'DATA/{resolution_str}/Full-Set/opacCIA.dat'\n",
    "output_file_path = f'DATA/{resolution_str}/opacCIA.dat'\n",
    "\n",
    "# Process the file to filter out rows with the first column value outside the specified range\n",
    "with open(input_file_path, 'r') as infile, open(output_file_path, 'w') as outfile:\n",
    "    line_counter = 0  # Counter to track line numbers\n",
    "    for line in infile:\n",
    "        line_counter += 1\n",
    "        parts = line.strip().split()\n",
    "\n",
    "        # Always write the first two lines and lines with single values\n",
    "        if line_counter <= 2 or len(parts) == 1:\n",
    "            outfile.write(line)\n",
    "        elif len(parts) > 1:\n",
    "            try:\n",
    "                wavelength = float(parts[0])\n",
    "                if min_wavelength <= wavelength < max_wavelength:  # Exclude the upper bound\n",
    "                    outfile.write(line)\n",
    "            except ValueError:\n",
    "                print(f\"Could not convert to float: {parts[0]}\")\n",
    "                \n",
    "print(f'Filtered data saved to {output_file_path}')"
   ]
  },
  {
   "cell_type": "code",
   "execution_count": null,
   "id": "b167fde5",
   "metadata": {},
   "outputs": [],
   "source": []
  },
  {
   "cell_type": "code",
   "execution_count": null,
   "id": "ad5dfe29",
   "metadata": {},
   "outputs": [],
   "source": []
  }
 ],
 "metadata": {
  "kernelspec": {
   "display_name": "Python 3 (ipykernel)",
   "language": "python",
   "name": "python3"
  },
  "language_info": {
   "codemirror_mode": {
    "name": "ipython",
    "version": 3
   },
   "file_extension": ".py",
   "mimetype": "text/x-python",
   "name": "python",
   "nbconvert_exporter": "python",
   "pygments_lexer": "ipython3",
   "version": "3.9.7"
  }
 },
 "nbformat": 4,
 "nbformat_minor": 5
}
